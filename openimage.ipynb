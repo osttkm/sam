{
 "cells": [
  {
   "cell_type": "code",
   "execution_count": 1,
   "metadata": {},
   "outputs": [],
   "source": [
    "from pathlib import Path\n",
    "import numpy as np\n",
    "import json\n",
    "from PIL import Image,ImageDraw\n",
    "import warnings\n",
    "warnings.filterwarnings(\"ignore\")"
   ]
  },
  {
   "cell_type": "code",
   "execution_count": 2,
   "metadata": {},
   "outputs": [],
   "source": [
    "# csvの読み込み\n",
    "def read_csv(path):\n",
    "    with open(path, \"r\") as f:\n",
    "        data = f.readlines()\n",
    "    return data\n",
    "\n",
    "boxable_name = read_csv(\"/home/dataset/openimage/oidv7-class-descriptions-boxable.csv\")\n",
    "train_boxable_name = read_csv(\"/home/dataset/openimage/train-annotations-human-imagelabels-boxable.csv\")\n",
    "# 基本的にこれに従えばいいと思われる\n",
    "train_annotations_bbox = read_csv(\"/home/dataset/openimage/bbox/train-annotations-bbox.csv\")\n",
    "\n",
    "# 各々の要素が文字列になっており，配列で番号指定できないので修正\n",
    "# train_boxable_name = [row.strip().split(',') for row in train_boxable_name]\n",
    "train_annotations_bbox = [row.strip().split(',') for row in train_annotations_bbox]\n",
    "# train_boxable_name = np.array(train_boxable_name)\n",
    "train_annotations_bbox = np.array(train_annotations_bbox)\n",
    "\n",
    "artificial_data = read_csv(\"/home/oshita/vlm/mirage-defect/oshita_check_extract_openimage_class.csv\")   \n",
    "artificial_data = [row.strip().split(',') for row in artificial_data]\n",
    "artificial_data = np.array(artificial_data)"
   ]
  },
  {
   "cell_type": "code",
   "execution_count": 3,
   "metadata": {},
   "outputs": [],
   "source": [
    "boxable_name = np.array(boxable_name)\n",
    "\n",
    "def get_name(boxable_name, specific_name):\n",
    "    # specific_nameが単一の文字列の場合、リストに変換する\n",
    "    if isinstance(specific_name, str):\n",
    "        specific_name = [specific_name]\n",
    "        return specific_name\n",
    "\n",
    "    # specific_nameがリストの場合の処理\n",
    "    return_specific_name = np.array([])\n",
    "    for col in boxable_name:\n",
    "        _class, name = col.split(',')\n",
    "        if _class in specific_name:\n",
    "            # print(name)\n",
    "            return_specific_name = np.append(return_specific_name, name)\n",
    "    return return_specific_name\n",
    "\n",
    "\n",
    "\n",
    "caribration_data = []\n",
    "for data in train_annotations_bbox:\n",
    "    confidence = data[3]\n",
    "    LabelName = data[2]\n",
    "    # print(confidence, LabelName)\n",
    "    if confidence == '0':\n",
    "        pass\n",
    "    elif confidence == '1':\n",
    "        if LabelName in artificial_data[:,0]:\n",
    "            # print(\"data appended!!\")\n",
    "            caribration_data.append(data)\n",
    "    \n",
    "print(caribration_data)"
   ]
  },
  {
   "cell_type": "code",
   "execution_count": null,
   "metadata": {},
   "outputs": [
    {
     "ename": "NameError",
     "evalue": "name 'img_path' is not defined",
     "output_type": "error",
     "traceback": [
      "\u001b[0;31m---------------------------------------------------------------------------\u001b[0m",
      "\u001b[0;31mNameError\u001b[0m                                 Traceback (most recent call last)",
      "Cell \u001b[0;32mIn[4], line 1\u001b[0m\n\u001b[0;32m----> 1\u001b[0m \u001b[38;5;28mprint\u001b[39m(\u001b[43mimg_path\u001b[49m)\n\u001b[1;32m      2\u001b[0m img \u001b[38;5;241m=\u001b[39m Image\u001b[38;5;241m.\u001b[39mopen(\u001b[38;5;124mf\u001b[39m\u001b[38;5;124m'\u001b[39m\u001b[38;5;124m/home/dataset/openimage/train/\u001b[39m\u001b[38;5;132;01m{\u001b[39;00mtarget_image_id\u001b[38;5;132;01m}\u001b[39;00m\u001b[38;5;124m.jpg\u001b[39m\u001b[38;5;124m'\u001b[39m)\u001b[38;5;241m.\u001b[39mresize((\u001b[38;5;241m256\u001b[39m,\u001b[38;5;241m256\u001b[39m))\n\u001b[1;32m      3\u001b[0m \u001b[38;5;66;03m# filtered_train_annotations_bbox = filtered_train_annotations_bbox[index_1]\u001b[39;00m\n",
      "\u001b[0;31mNameError\u001b[0m: name 'img_path' is not defined"
     ]
    }
   ],
   "source": [
    "# print(img_path)\n",
    "# img = Image.open(f'/home/dataset/openimage/train/{target_image_id}.jpg').resize((256,256))\n",
    "# # filtered_train_annotations_bbox = filtered_train_annotations_bbox[index_1]\n",
    "# for box_data in filtered_train_annotations_bbox:\n",
    "#     bbox_data = box_data\n",
    "#     # XとYの座標を取得（PILの座標系に合わせて変換）\n",
    "#     x_clicks = [float(bbox_data[i]) * img.width for i in range(13, 17)]\n",
    "#     y_clicks = [float(bbox_data[i]) * img.height for i in range(17, 21)]\n",
    "#     # バウンディングボックスの左上角（xmin, ymin）と右下角（xmax, ymax）を計算\n",
    "#     xmin, xmax = min(x_clicks), max(x_clicks)\n",
    "#     ymin, ymax = min(y_clicks), max(y_clicks)\n",
    "#     draw = ImageDraw.Draw(img)\n",
    "#     draw.rectangle([xmin, ymin, xmax, ymax], outline=\"red\")\n",
    "\n",
    "#     xmin, xmax, ymin, ymax = xmin/256, xmax/256, ymin/256, ymax/256\n",
    "#     # 画像の表示（または保存）\n",
    "# img.show()"
   ]
  },
  {
   "cell_type": "markdown",
   "metadata": {},
   "source": [
    "# 人工物を除いたtxtの作成"
   ]
  },
  {
   "cell_type": "code",
   "execution_count": null,
   "metadata": {},
   "outputs": [
    {
     "name": "stdout",
     "output_type": "stream",
     "text": [
      "['DisplayName', 'Accordion', 'Adhesive tape', 'Aircraft', 'Alarm clock', 'Ambulance', 'Apple', 'Artichoke', 'Auto part', 'Axe', 'Backpack', 'Bagel', 'Baked goods', 'Balance beam', 'Ball (Object)', 'Balloon', 'Banana', 'Band-aid', 'Banjo', 'Barge', 'Barrel', 'Baseball bat', 'Baseball glove', 'Bathroom accessory', 'Bathroom cabinet', 'Bathtub', 'Beaker', 'Bed', 'Beehive', 'Beer', 'Bell pepper', 'Belt', 'Bench', 'Bicycle', 'Bicycle helmet', 'Bicycle wheel', 'Bidet', 'Billboard', 'Billiard table', 'Binoculars', 'Blender', 'Blue jay', 'Boat', 'Bomb', 'Book', 'Bookcase', 'Boot', 'Bottle', 'Bottle opener', 'Bow and arrow', 'Bowl', 'Bowling equipment', 'Box', 'Brassiere', 'Bread', 'Briefcase', 'Broccoli', 'Bronze sculpture', 'Building', 'Burrito', 'Bus', 'Bust', 'Cabbage', 'Cabinetry', 'Cake', 'Cake stand', 'Calculator', 'Camera', 'Can opener', 'Candle', 'Candy', 'Cannon', 'Canoe', 'Cantaloupe', 'Car', 'Carrot', 'Cart', 'Cassette deck', 'Castle', 'Cat furniture', 'Cattle', 'Ceiling fan', 'Cello', 'Chainsaw', 'Chair', 'Cheese', 'Cheetah', 'Chest of drawers', 'Chicken', 'Chime', 'Chopsticks', 'Christmas tree', 'Clock', 'Closet', 'Clothing', 'Coat', 'Cocktail', 'Cocktail shaker', 'Coconut', 'Coffee (drink)', 'Coffee cup', 'Coffee table', 'Coffeemaker', 'Coin', 'Common fig', 'Common sunflower', 'Computer keyboard', 'Computer monitor', 'Computer mouse', 'Container', 'Convenience store', 'Cookie', 'Cooking spray', 'Corded phone', 'Cosmetics', 'Couch', 'Countertop', 'Cowboy hat', 'Cream', 'Cricket ball', 'Croissant', 'Crown', 'Crutch', 'Cucumber', 'Cupboard', 'Curtain', 'Cutting board', 'Dagger', 'Dairy Product', 'Desk', 'Dessert', 'Diaper', 'Dice', 'Digital clock', 'Dishwasher', 'Dog bed', 'Doll', 'Dolphin', 'Door', 'Door handle', 'Doughnut', 'Drawer', 'Dress', 'Drill (Tool)', 'Drink', 'Drinking straw', 'Drum', 'Dumbbell', 'Eagle', 'Earring', 'Egg', 'Envelope', 'Eraser', 'Face powder', 'Facial tissue holder', 'Fashion accessory', 'Fast food', 'Fax', 'Fedora', 'Filing cabinet', 'Fire hydrant', 'Fireplace', 'Fixed-wing aircraft', 'Flag', 'Flashlight', 'Flower', 'Flowerpot', 'Flute', 'Flying disc', 'Food', 'Food processor', 'Football', 'Football helmet', 'Footwear', 'Fork', 'Fountain', 'French fries', 'French horn', 'Fruit', 'Frying pan', 'Furniture', 'Garden Asparagus', 'Gas stove', 'Giraffe', 'Glasses', 'Glove', 'Goggles', 'Golf ball', 'Golf cart', 'Gondola', 'Grape', 'Grapefruit', 'Grinder', 'Guacamole', 'Guitar', 'Hair dryer', 'Hair spray', 'Hamburger', 'Hammer', 'Hand dryer', 'Handbag', 'Handgun', 'Harmonica', 'Harp', 'Harpsichord', 'Hat', 'Headphones', 'Heater', 'Helicopter', 'Helmet', 'High heels', 'Hiking equipment', 'Home appliance', 'Honeycomb', 'Horizontal bar', 'Hot dog', 'House', 'Houseplant', 'Humidifier', 'Ice cream', 'Indoor rower', 'Infant bed', 'Ipod', 'Jacket', 'Jacuzzi', 'Jeans', 'Jet ski', 'Jug', 'Juice', 'Kettle', 'Kitchen & dining room table', 'Kitchen appliance', 'Kitchen knife', 'Kitchen utensil', 'Kitchenware', 'Kite', 'Knife', 'Ladder', 'Ladle', 'Lamp', 'Land vehicle', 'Lantern', 'Laptop', 'Lavender (Plant)', 'Lemon (plant)', 'Light bulb', 'Light switch', 'Lighthouse', 'Lily', 'Limousine', 'Lipstick', 'Loveseat', 'Luggage and bags', 'Mango', 'Maple', 'Maraca', 'Measuring cup', 'Mechanical fan', 'Medical equipment', 'Microphone', 'Microwave oven', 'Milk', 'Miniskirt', 'Mirror', 'Missile', 'Mixer', 'Mixing bowl', 'Mobile phone', 'Motorcycle', 'Muffin', 'Mug', 'Mushroom', 'Musical instrument', 'Musical keyboard', 'Nail (Construction)', 'Necklace', 'Nightstand', 'Oboe', 'Office building', 'Office supplies', 'Orange (fruit)', 'Organ (Musical Instrument)', 'Oven', 'Paddle', 'Palm tree', 'Pancake', 'Paper cutter', 'Paper towel', 'Parachute', 'Parking meter', 'Pasta', 'Pastry', 'Peach', 'Pear', 'Pen', 'Pencil case', 'Pencil sharpener', 'Perfume', 'Personal care', 'Personal flotation device', 'Piano', 'Picnic basket', 'Picture frame', 'Pillow', 'Pineapple', 'Pitcher (Container)', 'Pizza', 'Pizza cutter', 'Plant', 'Plastic bag', 'Plate', 'Platter', 'Plumbing fixture', 'Pomegranate', 'Popcorn', 'Porch', 'Porcupine', 'Poster', 'Potato', 'Power plugs and sockets', 'Pressure cooker', 'Pretzel', 'Printer', 'Pumpkin', 'Punching bag', 'Racket', 'Radish', 'Ratchet (Device)', 'Refrigerator', 'Remote control', 'Rifle', 'Ring binder', 'Rocket', 'Roller skates', 'Rose', 'Rugby ball', 'Ruler', 'Salad', 'Salt and pepper shakers', 'Sandal', 'Sandwich', 'Saucer', 'Saxophone', 'Scale', 'Scarf', 'Scissors', 'Scoreboard', 'Screwdriver', 'Sculpture', 'Seat belt', 'Segway', 'Serving tray', 'Sewing machine', 'Shark', 'Shelf', 'Shirt', 'Shorts', 'Shotgun', 'Shower', 'Sink', 'Skateboard', 'Ski', 'Skirt', 'Skull', 'Skyscraper', 'Slow cooker', 'Snowboard', 'Snowman', 'Snowmobile', 'Snowplow', 'Soap dispenser', 'Sock', 'Sofa bed', 'Sombrero', 'Spatula', 'Spice rack', 'Spider', 'Spoon', 'Sports equipment', 'Sports uniform', 'Squash (Plant)', 'Stairs', 'Stapler', 'Stationary bicycle', 'Stethoscope', 'Stool', 'Strawberry', 'Street light', 'Stretcher', 'Studio couch', 'Submarine sandwich', 'Suit', 'Suitcase', 'Sun hat', 'Sunglasses', 'Surfboard', 'Sushi', 'Swim cap', 'Swimming pool', 'Swimwear', 'Sword', 'Syringe', 'Table', 'Table tennis racket', 'Tablet computer', 'Tableware', 'Taco', 'Tank', 'Tap', 'Tart', 'Taxi', 'Tea', 'Teapot', 'Telephone', 'Television', 'Tennis ball', 'Tennis racket', 'Tent', 'Tiara', 'Tie', 'Tin can', 'Tire', 'Toaster', 'Toilet', 'Toilet paper', 'Tomato', 'Tool', 'Toothbrush', 'Torch', 'Towel', 'Tower', 'Toy', 'Traffic light', 'Traffic sign', 'Train', 'Training bench', 'Treadmill', 'Tree', 'Tree house', 'Tripod', 'Trombone', 'Trousers', 'Truck', 'Trumpet', 'Umbrella', 'Unicycle', 'Van', 'Vase', 'Vegetable', 'Vehicle', 'Vehicle registration plate', 'Violin', 'Volleyball (Ball)', 'Waffle', 'Waffle iron', 'Wall clock', 'Wardrobe', 'Washing machine', 'Waste container', 'Watch', 'Watercraft', 'Watermelon', 'Weapon', 'Wheel', 'Wheelchair', 'Whisk', 'Whiteboard', 'Willow', 'Window', 'Window blind', 'Wine', 'Wine glass', 'Wine rack', 'Winter melon', 'Wok', 'Wood-burning stove', 'Wrench', 'Zucchini']\n",
      "[1. 1. 1. 1. 1. 1. 0. 1. 0. 1. 1. 1. 1. 1. 1. 1. 1. 1. 1. 1. 1. 1. 1. 1.\n",
      " 1. 1. 1. 1. 1. 0. 1. 1. 1. 0. 1. 1. 1. 1. 1. 1. 1. 1. 1. 1. 1. 1. 1. 1.\n",
      " 1. 1. 1. 1. 1. 1. 1. 1. 1. 1. 1. 1. 1. 1. 1. 1. 1. 1. 1. 1. 1. 1. 1. 1.\n",
      " 1. 1. 1. 1. 1. 1. 1. 1. 1. 1. 1. 0. 1. 0. 1. 1. 1. 0. 1. 1. 1. 1. 1. 1.\n",
      " 1. 0. 1. 1. 1. 1. 1. 1. 1. 1. 1. 1. 1. 1. 1. 1. 1. 1. 1. 1. 1. 1. 1. 1.\n",
      " 1. 1. 1. 1. 1. 1. 0. 1. 1. 0. 1. 1. 1. 1. 1. 1. 1. 1. 1. 0. 1. 1. 1. 1.\n",
      " 1. 0. 1. 0. 1. 1. 1. 1. 1. 1. 0. 1. 1. 1. 1. 1. 1. 0. 1. 1. 1. 1. 0. 1.\n",
      " 1. 1. 1. 0. 1. 1. 1. 1. 1. 1. 1. 0. 1. 1. 1. 1. 1. 1. 1. 1. 1. 1. 1. 1.\n",
      " 1. 1. 0. 1. 1. 0. 1. 1. 1. 1. 1. 1. 0. 1. 1. 0. 1. 0. 1. 1. 1. 0. 1. 1.\n",
      " 1. 1. 1. 1. 1. 1. 1. 0. 1. 1. 1. 0. 1. 1. 1. 1. 1. 1. 0. 1. 1. 1. 1. 0.\n",
      " 1. 1. 1. 0. 1. 1. 1. 0. 0. 0. 0. 0. 0. 0. 0. 0. 0. 0. 0. 1. 1. 1. 1. 0.\n",
      " 0. 1. 0. 1. 1. 0. 1. 0. 1. 1. 1. 0. 1. 1. 1. 1. 1. 1. 1. 1. 0. 1. 1. 0.\n",
      " 1. 1. 1. 1. 1. 1. 0. 1. 1. 1. 1. 1. 0. 1. 0. 0. 1. 1. 0. 0. 0. 0. 1. 1.\n",
      " 1. 0. 0. 1. 1. 1. 1. 1. 1. 1. 1. 1. 1. 1. 1. 0. 0. 1. 0. 1. 1. 0. 1. 1.\n",
      " 1. 1. 1. 1. 1. 1. 1. 1. 1. 0. 0. 1. 0. 0. 1. 1. 1. 0. 1. 1. 1. 1. 0. 1.\n",
      " 1. 1. 1. 1. 1. 1. 0. 1. 0. 1. 1. 1. 1. 1. 0. 1. 1. 1. 1. 1. 1. 1. 1. 1.\n",
      " 1. 0. 1. 1. 1. 1. 1. 1. 1. 1. 1. 1. 1. 1. 0. 0. 1. 1. 1. 0. 0. 0. 1. 1.\n",
      " 0. 0. 1. 1. 1. 1. 1. 1. 1. 1. 1. 1. 1. 1. 1. 1. 1. 1. 1. 0. 1. 1. 0. 0.\n",
      " 0. 0. 1. 1. 1. 1. 1. 0. 1. 0. 1. 1. 1. 1. 0. 1. 1. 1. 1. 1. 0. 1. 1. 0.\n",
      " 0. 0. 1. 1. 1. 1. 1. 1. 1. 1. 0. 1. 1. 1. 1. 1. 1. 1. 0. 0. 1. 1. 0. 1.\n",
      " 1. 1. 0. 1. 1. 1. 1. 0. 1. 1. 1. 1. 1. 1. 1. 0. 1. 1. 1. 1. 1. 1. 1. 1.\n",
      " 1. 1. 1. 1. 1. 1. 1. 1. 0. 1. 1. 1. 1. 1. 1. 0. 1. 0. 1. 1. 1. 1. 1. 1.\n",
      " 1. 1. 1. 0. 1. 1. 1. 1. 1. 1. 1. 1. 1. 1. 1. 1. 1. 1. 1. 0. 0. 1. 1. 1.\n",
      " 1. 1. 1. 1. 1. 1. 1. 1. 1. 1. 1. 1. 1. 1. 1. 1. 0. 1. 1. 1. 1. 1. 1. 1.\n",
      " 1. 1. 1. 1. 1. 1. 0. 1. 1.]\n"
     ]
    }
   ],
   "source": [
    "# openimage_class_discrption.txtを読み込む\n",
    "with open('./openimage_class_discription.txt') as f:\n",
    "    class_discrption = f.readlines()\n",
    "_class_discrption = [row.strip().split(',')[1] for row in class_discrption]\n",
    "label_class_discrption = [row.strip().split(',')[0] for row in class_discrption]\n",
    "\n",
    "with open('./extract_openimage_class.txt') as f:\n",
    "    extracted_openimage_class = f.readlines()\n",
    "extracted_openimage_class = [row.strip() for row in extracted_openimage_class]\n",
    "print(extracted_openimage_class)\n",
    "\n",
    "# class_discrptionのうちextracted_openimage_classに含まれるもののindexをTrue,Falseで取得\n",
    "index = np.array([])\n",
    "for i in range(len(class_discrption)):\n",
    "    if _class_discrption[i] in extracted_openimage_class:\n",
    "        index = np.append(index,True)\n",
    "    else:\n",
    "        index = np.append(index,False)\n",
    "print(index)\n",
    "# indexをboolに変換\n",
    "index = index.astype(bool)\n",
    "\n",
    "# # indexに対応するclass_discrption,label_class_discrptionを取得\n",
    "_class_discrption = np.array(_class_discrption)[index]\n",
    "label_class_discrption = np.array(label_class_discrption)[index]\n",
    "# txtに書き込み\n",
    "with open('./re_extract_openimage_class.txt','w') as f:\n",
    "    for i in range(len(_class_discrption)):\n",
    "        f.write(f'{label_class_discrption[i]},{_class_discrption[i]}\\n')\n"
   ]
  },
  {
   "cell_type": "code",
   "execution_count": null,
   "metadata": {},
   "outputs": [],
   "source": []
  },
  {
   "cell_type": "code",
   "execution_count": null,
   "metadata": {},
   "outputs": [],
   "source": []
  }
 ],
 "metadata": {
  "kernelspec": {
   "display_name": "develop",
   "language": "python",
   "name": "python3"
  },
  "language_info": {
   "codemirror_mode": {
    "name": "ipython",
    "version": 3
   },
   "file_extension": ".py",
   "mimetype": "text/x-python",
   "name": "python",
   "nbconvert_exporter": "python",
   "pygments_lexer": "ipython3",
   "version": "3.10.10"
  }
 },
 "nbformat": 4,
 "nbformat_minor": 2
}
